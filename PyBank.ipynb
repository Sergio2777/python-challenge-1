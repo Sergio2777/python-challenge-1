{
 "cells": [
  {
   "cell_type": "code",
   "execution_count": 95,
   "id": "be2ddc99-6367-4187-8a05-ef60958a6a6e",
   "metadata": {
    "tags": []
   },
   "outputs": [],
   "source": [
    "import csv\n",
    "from pathlib import Path"
   ]
  },
  {
   "cell_type": "code",
   "execution_count": 96,
   "id": "6dd60a93-7849-46e8-bf14-502faae3641f",
   "metadata": {
    "tags": []
   },
   "outputs": [],
   "source": [
    "file_path = Path(r\"C:\\Users\\sergi\\Downloads\\Starter_Code (2)\\Starter_Code (1)\\Instructions\\PyBank\\Resources\\budget_data.csv\")"
   ]
  },
  {
   "cell_type": "code",
   "execution_count": 97,
   "id": "9ece080c-4f5b-4b45-af58-8569523dcc62",
   "metadata": {
    "tags": []
   },
   "outputs": [],
   "source": [
    "total_months = 0\n",
    "net_total = 0\n",
    "previous_profit_loss = 0\n",
    "profit_loss_changes = []\n",
    "months = []\n",
    "greatest_increase = {\"date\": \"\", \"amount\": 0}\n",
    "greatest_decrease = {\"date\": \"\", \"amount\": 0}"
   ]
  },
  {
   "cell_type": "code",
   "execution_count": 98,
   "id": "58a02256-3221-4ed9-b311-c6ff86806307",
   "metadata": {
    "tags": []
   },
   "outputs": [],
   "source": [
    "with file_path.open(newline='') as f:\n",
    "    reader = csv.reader(f, delimiter=\",\")\n",
    "    next(reader) \n",
    "    for row in reader:\n",
    "        total_months += 1\n",
    "        net_total += int(row[1])\n",
    "        current_profit_loss = int(row[1])\n",
    "        profit_loss_change = current_profit_loss - previous_profit_loss\n",
    "        profit_loss_changes.append(profit_loss_change)\n",
    "        months.append(row[0])\n",
    "        if profit_loss_change > greatest_increase[\"amount\"]:\n",
    "            greatest_increase[\"date\"] = row[0]\n",
    "            greatest_increase[\"amount\"] = profit_loss_change\n",
    "        elif profit_loss_change < greatest_decrease[\"amount\"]:\n",
    "            greatest_decrease[\"date\"] = row[0]\n",
    "            greatest_decrease[\"amount\"] = profit_loss_change\n",
    "        previous_profit_loss = current_profit_loss\n",
    "\n"
   ]
  },
  {
   "cell_type": "code",
   "execution_count": 101,
   "id": "84b1ba7c-15bb-4c12-9229-70963e9e2f9d",
   "metadata": {
    "tags": []
   },
   "outputs": [],
   "source": [
    "average_change = sum(profit_loss_changes) / len(profit_loss_changes)\n"
   ]
  },
  {
   "cell_type": "code",
   "execution_count": 102,
   "id": "709d1497-65a9-4386-a95c-5cd51f06cd7a",
   "metadata": {
    "tags": []
   },
   "outputs": [
    {
     "name": "stdout",
     "output_type": "stream",
     "text": [
      "Financial Analysis\n",
      "---------------------------\n",
      "Total Months: 86\n",
      "Total: $38382578\n",
      "Average Change: $7803.48\n",
      "Greatest Increase in Profits: Feb-2012 ($1926159)\n",
      "Greatest Decrease in Losses: Sep-2013 ($-2196167)\n"
     ]
    }
   ],
   "source": [
    "print(\"Financial Analysis\")\n",
    "print(\"---------------------------\")\n",
    "print(f\"Total Months: {total_months}\")\n",
    "print(f\"Total: ${net_total}\")\n",
    "print(f\"Average Change: ${average_change:.2f}\")\n",
    "print(f\"Greatest Increase in Profits: {greatest_increase['date']} (${greatest_increase['amount']})\")\n",
    "print(f\"Greatest Decrease in Losses: {greatest_decrease['date']} (${greatest_decrease['amount']})\")"
   ]
  }
 ],
 "metadata": {
  "kernelspec": {
   "display_name": "Python 3 (ipykernel)",
   "language": "python",
   "name": "python3"
  },
  "language_info": {
   "codemirror_mode": {
    "name": "ipython",
    "version": 3
   },
   "file_extension": ".py",
   "mimetype": "text/x-python",
   "name": "python",
   "nbconvert_exporter": "python",
   "pygments_lexer": "ipython3",
   "version": "3.11.4"
  }
 },
 "nbformat": 4,
 "nbformat_minor": 5
}
